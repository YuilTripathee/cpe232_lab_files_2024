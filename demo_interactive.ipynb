{
  "cells": [
    {
      "cell_type": "markdown",
      "metadata": {},
      "source": [
        "# Supplementary #2: Interactive Data Visualization"
      ]
    },
    {
      "cell_type": "code",
      "execution_count": null,
      "metadata": {
        "id": "14-g0zrZTp8V"
      },
      "outputs": [],
      "source": [
        "# connect to Google Colab"
      ]
    },
    {
      "cell_type": "code",
      "execution_count": null,
      "metadata": {
        "colab": {
          "base_uri": "https://localhost:8080/"
        },
        "id": "11FDrB-VTy0N",
        "outputId": "ca71899c-235f-4570-ae3d-2f9dcb2703d8"
      },
      "outputs": [],
      "source": [
        "from google.colab import drive\n",
        "drive.mount('/content/drive')"
      ]
    },
    {
      "cell_type": "code",
      "execution_count": null,
      "metadata": {
        "id": "Gq4_rvIdTp8X"
      },
      "outputs": [],
      "source": [
        "# import necessary libraries\n",
        "import numpy as np\n",
        "import pandas as pd\n",
        "\n",
        "# import plotly\n",
        "import plotly.express as px"
      ]
    },
    {
      "cell_type": "markdown",
      "metadata": {
        "id": "aZBevpcYTp8X"
      },
      "source": [
        "## Line"
      ]
    },
    {
      "cell_type": "code",
      "execution_count": null,
      "metadata": {
        "id": "xKEJaEqHTp8Y"
      },
      "outputs": [],
      "source": [
        "# define data values\n",
        "# x = np.array([1, 2, 3, 4])  # X-axis points\n",
        "x = np.array([i for i in range(50)])\n",
        "y = x*x  # Y-axis points\n",
        "# fig = px.line(x,y)\n",
        "# fig.show()"
      ]
    },
    {
      "cell_type": "markdown",
      "metadata": {
        "id": "h4ASOhgCTp8Y"
      },
      "source": [
        "Enable markers to emphasize the points"
      ]
    },
    {
      "cell_type": "code",
      "execution_count": null,
      "metadata": {
        "colab": {
          "base_uri": "https://localhost:8080/",
          "height": 542
        },
        "id": "pj7eFinQTp8Y",
        "outputId": "1b69c35b-6468-4814-f462-ba5d65569573"
      },
      "outputs": [],
      "source": [
        "fig = px.line(x,y, markers=True)\n",
        "\n",
        "fig.update_xaxes(title_text='x')\n",
        "fig.update_yaxes(title_text='y')\n",
        "\n",
        "fig.show()"
      ]
    },
    {
      "cell_type": "markdown",
      "metadata": {
        "id": "sjn-2VBaTp8Z"
      },
      "source": [
        "## Bar"
      ]
    },
    {
      "cell_type": "code",
      "execution_count": null,
      "metadata": {
        "colab": {
          "base_uri": "https://localhost:8080/"
        },
        "id": "auVIB5h4Tp8Z",
        "outputId": "9a4a38de-b121-43d7-d6d8-1ae550dd65a0"
      },
      "outputs": [],
      "source": [
        "# general Bar\n",
        "years = range(2017, 2023)\n",
        "boys = [35, 62, 91, 84, 65, 86]\n",
        "girls = [42, 83, 79, 72, 60, 81]\n",
        "list(years)"
      ]
    },
    {
      "cell_type": "markdown",
      "metadata": {
        "id": "bR_-dA42Tp8Z"
      },
      "source": [
        "Store values in the dataframe"
      ]
    },
    {
      "cell_type": "code",
      "execution_count": null,
      "metadata": {
        "colab": {
          "base_uri": "https://localhost:8080/",
          "height": 238
        },
        "id": "Pz37-QcwTp8Z",
        "outputId": "3072abe5-ddcc-4138-80e5-439ce82426ed"
      },
      "outputs": [],
      "source": [
        "df = pd.DataFrame({\n",
        "    \"years\":list(years),\n",
        "    \"boys\": boys,\n",
        "    \"girls\": girls\n",
        "})\n",
        "\n",
        "df"
      ]
    },
    {
      "cell_type": "code",
      "execution_count": null,
      "metadata": {
        "colab": {
          "base_uri": "https://localhost:8080/",
          "height": 542
        },
        "id": "8NgomSaXTp8a",
        "outputId": "c7837e4f-ceba-4650-96f7-5012f6d6b870"
      },
      "outputs": [],
      "source": [
        "fig = px.bar(df, x='years', y='boys')\n",
        "fig.show()"
      ]
    },
    {
      "cell_type": "markdown",
      "metadata": {
        "id": "GwbFmoKUTp8a"
      },
      "source": [
        "From vertical to horizontal presentation"
      ]
    },
    {
      "cell_type": "code",
      "execution_count": null,
      "metadata": {
        "colab": {
          "base_uri": "https://localhost:8080/",
          "height": 542
        },
        "id": "3-VQ0a78Tp8a",
        "outputId": "e4be24a1-c6fd-408b-ff92-b2dff4e8187e"
      },
      "outputs": [],
      "source": [
        "fig = px.bar(df, x='boys', y='years', orientation='h')\n",
        "fig.show()"
      ]
    },
    {
      "cell_type": "markdown",
      "metadata": {
        "id": "HQXkeom4Tp8a"
      },
      "source": [
        "Choose a different attribute"
      ]
    },
    {
      "cell_type": "code",
      "execution_count": null,
      "metadata": {
        "id": "Z5WzHsKrTp8a"
      },
      "outputs": [],
      "source": [
        "fig = px.bar(df, x='years', y='girls')\n",
        "fig.show()"
      ]
    },
    {
      "cell_type": "markdown",
      "metadata": {
        "id": "Ab5AfJ2MTp8a"
      },
      "source": [
        "#### Colored Bar"
      ]
    },
    {
      "cell_type": "code",
      "execution_count": null,
      "metadata": {
        "colab": {
          "base_uri": "https://localhost:8080/",
          "height": 542
        },
        "id": "ibBt3XWETp8a",
        "outputId": "2635adf7-f49c-4587-a2af-3056b9bf5c1b"
      },
      "outputs": [],
      "source": [
        "fig = px.bar(df, x='years', y='boys',\n",
        "             hover_data=['boys'], color='boys',\n",
        "             labels={'boys':'No. of boys'})\n",
        "fig.show()"
      ]
    },
    {
      "cell_type": "markdown",
      "metadata": {
        "id": "zGg5_ZvmTp8a"
      },
      "source": [
        "#### Stacked Bar"
      ]
    },
    {
      "cell_type": "code",
      "execution_count": null,
      "metadata": {
        "colab": {
          "base_uri": "https://localhost:8080/",
          "height": 542
        },
        "id": "0bwFEkMiTp8a",
        "outputId": "2cee4b36-c602-4cb8-ca58-7012b963eeed"
      },
      "outputs": [],
      "source": [
        "import plotly.graph_objects as px\n",
        "\n",
        "fig = px.Figure(data=[\n",
        "    px.Bar(\n",
        "    name = 'Boys',\n",
        "    x = list(years),\n",
        "    y = boys),\n",
        "\n",
        "    px.Bar(\n",
        "    name = 'Girls',\n",
        "    x = list(years),\n",
        "    y = girls)\n",
        "])\n",
        "\n",
        "fig.update_layout(barmode='stack')\n",
        "\n",
        "fig.show()\n"
      ]
    },
    {
      "cell_type": "markdown",
      "metadata": {
        "id": "bWgsdXxHTp8a"
      },
      "source": [
        "#### Side-by-Side Bar Plot"
      ]
    },
    {
      "cell_type": "code",
      "execution_count": null,
      "metadata": {
        "colab": {
          "base_uri": "https://localhost:8080/",
          "height": 542
        },
        "id": "zlswJA85Tp8a",
        "outputId": "88c7a710-7a40-4866-97ae-852ccb67ca27"
      },
      "outputs": [],
      "source": [
        "fig = px.Figure(data=[\n",
        "    px.Bar(\n",
        "    name = 'Boys',\n",
        "    x = list(years),\n",
        "    y = boys),\n",
        "\n",
        "    px.Bar(\n",
        "    name = 'Girls',\n",
        "    x = list(years),\n",
        "    y = girls)\n",
        "])\n",
        "\n",
        "fig.show()\n"
      ]
    },
    {
      "cell_type": "markdown",
      "metadata": {
        "id": "tYug0TXLTp8a"
      },
      "source": [
        "#### Histogram"
      ]
    },
    {
      "cell_type": "code",
      "execution_count": null,
      "metadata": {
        "colab": {
          "base_uri": "https://localhost:8080/",
          "height": 542
        },
        "id": "EVrEbQaBTp8a",
        "outputId": "2dc806d9-25e0-4ae0-d498-334c36b5eb07"
      },
      "outputs": [],
      "source": [
        "import plotly.express as px\n",
        "# generate normal data distribution\n",
        "x = np.random.normal(170, 10, 250)\n",
        "fig = px.histogram(x)\n",
        "fig.show()"
      ]
    },
    {
      "cell_type": "markdown",
      "metadata": {
        "id": "NHSXPgtTTp8a"
      },
      "source": [
        "Specify number of bins"
      ]
    },
    {
      "cell_type": "code",
      "execution_count": null,
      "metadata": {
        "colab": {
          "base_uri": "https://localhost:8080/",
          "height": 542
        },
        "id": "3nZqlkJKTp8a",
        "outputId": "a718857e-f1bd-46db-d7df-d601e3e9a2e3"
      },
      "outputs": [],
      "source": [
        "fig = px.histogram(df, x='boys') #nbins = custom number\n",
        "fig.show()"
      ]
    },
    {
      "cell_type": "markdown",
      "metadata": {
        "id": "P_x52bbETp8b"
      },
      "source": [
        "## Pie Chart"
      ]
    },
    {
      "cell_type": "code",
      "execution_count": null,
      "metadata": {
        "colab": {
          "base_uri": "https://localhost:8080/",
          "height": 175
        },
        "id": "A3lRQpmNTp8b",
        "outputId": "12d97d77-ae99-4894-bd1a-867dbecb8d57"
      },
      "outputs": [],
      "source": [
        "y = np.array([35, 25, 25, 15])\n",
        "mylabels = [\"Apples\", \"Bananas\", \"Cherries\", \"Dates\"]\n",
        "\n",
        "df_pie = pd.DataFrame({\n",
        "    \"amount\":list(y),\n",
        "    \"fruits\": mylabels\n",
        "})\n",
        "\n",
        "df_pie"
      ]
    },
    {
      "cell_type": "code",
      "execution_count": null,
      "metadata": {
        "colab": {
          "base_uri": "https://localhost:8080/",
          "height": 542
        },
        "id": "MZz0sW0lTp8b",
        "outputId": "82a8d943-8fc2-4d54-a8a6-9273da51f4ee"
      },
      "outputs": [],
      "source": [
        "fig = px.pie(df_pie, values='amount', names='fruits', title='Amount of fruits')\n",
        "fig.show()"
      ]
    },
    {
      "cell_type": "markdown",
      "metadata": {
        "id": "CKS4S7zHTp8b"
      },
      "source": [
        "## Scatter Plot"
      ]
    },
    {
      "cell_type": "code",
      "execution_count": null,
      "metadata": {
        "colab": {
          "base_uri": "https://localhost:8080/",
          "height": 542
        },
        "id": "FlRTgVOtTp8b",
        "outputId": "a1aa6e65-9e2f-4cd6-8e2b-a2cc15b48485"
      },
      "outputs": [],
      "source": [
        "# generate normal data distribution\n",
        "x = np.random.normal(170, 10, 250)\n",
        "y = np.random.normal(170, 10, 250)\n",
        "\n",
        "fig = px.scatter(x, y)\n",
        "fig.show()"
      ]
    },
    {
      "cell_type": "markdown",
      "metadata": {
        "id": "1ANBI_3KTp8b"
      },
      "source": [
        "### 3D-scatter plot"
      ]
    },
    {
      "cell_type": "code",
      "execution_count": null,
      "metadata": {
        "id": "lMFx7zDDTp8b"
      },
      "outputs": [],
      "source": [
        "import plotly.express as px\n",
        "df = px.data.iris()\n"
      ]
    },
    {
      "cell_type": "code",
      "execution_count": null,
      "metadata": {
        "colab": {
          "base_uri": "https://localhost:8080/",
          "height": 542
        },
        "id": "Hj02VgL-Tp8b",
        "outputId": "b1d33c74-5169-43c5-cbb9-3ac3769165d9"
      },
      "outputs": [],
      "source": [
        "fig = px.scatter_3d(df, x='sepal_length', y='sepal_width', z='petal_width',\n",
        "              color='species')\n",
        "fig.show()"
      ]
    },
    {
      "cell_type": "markdown",
      "metadata": {
        "id": "GMrccqcSTp8b"
      },
      "source": [
        "## Bubble Chart"
      ]
    },
    {
      "cell_type": "code",
      "execution_count": null,
      "metadata": {
        "colab": {
          "base_uri": "https://localhost:8080/",
          "height": 542
        },
        "id": "ABDWoBCvTp8b",
        "outputId": "25ec9a3d-22af-4c7b-a67a-924804247660"
      },
      "outputs": [],
      "source": [
        "import plotly.graph_objects as go\n",
        "\n",
        "fig = go.Figure(data=[go.Scatter(\n",
        "    x=[1, 2, 3, 4], y=[10, 11, 12, 13],\n",
        "    mode='markers',\n",
        "    marker_size=[40, 150, 80, 100])\n",
        "])\n",
        "\n",
        "fig.show()"
      ]
    },
    {
      "cell_type": "markdown",
      "metadata": {
        "id": "8pfF9AeNTp8b"
      },
      "source": [
        "## Heatmap"
      ]
    },
    {
      "cell_type": "code",
      "execution_count": null,
      "metadata": {
        "colab": {
          "base_uri": "https://localhost:8080/",
          "height": 542
        },
        "id": "0u1yeBzUTp8b",
        "outputId": "97431b8c-6931-42ea-d92f-55f676b2ba54"
      },
      "outputs": [],
      "source": [
        "data = np.random.random((20,20))\n",
        "fig = px.imshow(data)\n",
        "fig.show()"
      ]
    }
  ],
  "metadata": {
    "colab": {
      "provenance": []
    },
    "kernelspec": {
      "display_name": "Python 3.11.1 64-bit",
      "language": "python",
      "name": "python3"
    },
    "language_info": {
      "codemirror_mode": {
        "name": "ipython",
        "version": 3
      },
      "file_extension": ".py",
      "mimetype": "text/x-python",
      "name": "python",
      "nbconvert_exporter": "python",
      "pygments_lexer": "ipython3",
      "version": "3.11.1"
    },
    "orig_nbformat": 4,
    "vscode": {
      "interpreter": {
        "hash": "aee8b7b246df8f9039afb4144a1f6fd8d2ca17a180786b69acc140d282b71a49"
      }
    }
  },
  "nbformat": 4,
  "nbformat_minor": 0
}
